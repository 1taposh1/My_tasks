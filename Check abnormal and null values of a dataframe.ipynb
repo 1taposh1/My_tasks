#Check the coumns that have abnormal values and identify the columns that have null/NaN values
def check_abnormal(dataframe, skip_col):
    for i in range(skip_col,len(dataframe.columns)):
        col = dataframe.columns[i]
        if dataframe.loc[:,col].isnull().values.any(): #Identify the columns that have null/NaN values
            print(col)
        #Identify the columns that have abnormal values (Values > 50 and values <0)
        elif ((dataframe.loc[:,col] > 50).values.any()) | ((dataframe.loc[:,col] < 0).values.any()):
            print("Columns that have abnormal values:", col)
