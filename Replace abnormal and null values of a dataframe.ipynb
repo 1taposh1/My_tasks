#Replace the null/NaN values with max values and abnormal values with median values
def rectification(dataframe, skip_col=3):
    for i in range(skip_col,len(dataframe.columns)):
        col = dataframe.columns[i]
        #Identify the columns that have abnormal values (Values > 50 and values <0)
        if ((dataframe.loc[:,col] > 50).values.any()) | ((dataframe.loc[:,col] < 0).values.any()):
            #Replace the abnormal values with median values
            dataframe.loc[(dataframe[col]>50) | (dataframe[col]<0),col] = dataframe.loc[:,col].median()
        #Identify the columns that have null/NaN values
        elif dataframe.loc[:,col].isnull().values.any(): #Identify the columns that have null/NaN values
            #Replace the null/NaN values with max values
            dataframe.loc[:,col].fillna(value=dataframe.loc[:,col].max(), inplace=True)
